{
 "cells": [
  {
   "cell_type": "markdown",
   "metadata": {},
   "source": [
    "# Importing Libraries"
   ]
  },
  {
   "cell_type": "code",
   "execution_count": 2,
   "metadata": {
    "collapsed": true
   },
   "outputs": [],
   "source": [
    "import glob"
   ]
  },
  {
   "cell_type": "code",
   "execution_count": 3,
   "metadata": {
    "collapsed": true
   },
   "outputs": [],
   "source": [
    "import numpy as np\n",
    "import pandas as pd\n",
    "import matplotlib.pyplot as plt\n",
    "%matplotlib inline\n",
    "import seaborn as sns"
   ]
  },
  {
   "cell_type": "code",
   "execution_count": 4,
   "metadata": {
    "collapsed": true
   },
   "outputs": [],
   "source": [
    "import librosa"
   ]
  },
  {
   "cell_type": "code",
   "execution_count": 5,
   "metadata": {
    "collapsed": true
   },
   "outputs": [],
   "source": [
    "from sklearn.linear_model import LogisticRegression"
   ]
  },
  {
   "cell_type": "code",
   "execution_count": 6,
   "metadata": {
    "collapsed": true
   },
   "outputs": [],
   "source": [
    "from sklearn.svm import SVC"
   ]
  },
  {
   "cell_type": "markdown",
   "metadata": {},
   "source": [
    "# Loading Datasets"
   ]
  },
  {
   "cell_type": "code",
   "execution_count": 7,
   "metadata": {
    "collapsed": true
   },
   "outputs": [],
   "source": [
    "files_tr = glob.glob(\"Hemanta_Jagjit_Sanu_Kishore_Train\\*.wav\")"
   ]
  },
  {
   "cell_type": "code",
   "execution_count": 8,
   "metadata": {},
   "outputs": [
    {
     "data": {
      "text/plain": [
       "['Hemanta_Jagjit_Sanu_Kishore_Train\\\\HM_01.wav',\n",
       " 'Hemanta_Jagjit_Sanu_Kishore_Train\\\\HM_02.wav',\n",
       " 'Hemanta_Jagjit_Sanu_Kishore_Train\\\\HM_03.wav',\n",
       " 'Hemanta_Jagjit_Sanu_Kishore_Train\\\\HM_04.wav',\n",
       " 'Hemanta_Jagjit_Sanu_Kishore_Train\\\\HM_05.wav',\n",
       " 'Hemanta_Jagjit_Sanu_Kishore_Train\\\\HM_16.wav',\n",
       " 'Hemanta_Jagjit_Sanu_Kishore_Train\\\\HM_17.wav',\n",
       " 'Hemanta_Jagjit_Sanu_Kishore_Train\\\\HM_18.wav',\n",
       " 'Hemanta_Jagjit_Sanu_Kishore_Train\\\\HM_19.wav',\n",
       " 'Hemanta_Jagjit_Sanu_Kishore_Train\\\\HM_20.wav',\n",
       " 'Hemanta_Jagjit_Sanu_Kishore_Train\\\\HM_21.wav',\n",
       " 'Hemanta_Jagjit_Sanu_Kishore_Train\\\\HM_22.wav',\n",
       " 'Hemanta_Jagjit_Sanu_Kishore_Train\\\\HM_23.wav',\n",
       " 'Hemanta_Jagjit_Sanu_Kishore_Train\\\\HM_24.wav',\n",
       " 'Hemanta_Jagjit_Sanu_Kishore_Train\\\\HM_25.wav',\n",
       " 'Hemanta_Jagjit_Sanu_Kishore_Train\\\\HM_26.wav',\n",
       " 'Hemanta_Jagjit_Sanu_Kishore_Train\\\\HM_27.wav',\n",
       " 'Hemanta_Jagjit_Sanu_Kishore_Train\\\\HM_28.wav',\n",
       " 'Hemanta_Jagjit_Sanu_Kishore_Train\\\\HM_29.wav',\n",
       " 'Hemanta_Jagjit_Sanu_Kishore_Train\\\\HM_30.wav',\n",
       " 'Hemanta_Jagjit_Sanu_Kishore_Train\\\\JG_01.wav',\n",
       " 'Hemanta_Jagjit_Sanu_Kishore_Train\\\\JG_02.wav',\n",
       " 'Hemanta_Jagjit_Sanu_Kishore_Train\\\\JG_03.wav',\n",
       " 'Hemanta_Jagjit_Sanu_Kishore_Train\\\\JG_04.wav',\n",
       " 'Hemanta_Jagjit_Sanu_Kishore_Train\\\\JG_05.wav',\n",
       " 'Hemanta_Jagjit_Sanu_Kishore_Train\\\\JG_16.wav',\n",
       " 'Hemanta_Jagjit_Sanu_Kishore_Train\\\\JG_17.wav',\n",
       " 'Hemanta_Jagjit_Sanu_Kishore_Train\\\\JG_18.wav',\n",
       " 'Hemanta_Jagjit_Sanu_Kishore_Train\\\\JG_19.wav',\n",
       " 'Hemanta_Jagjit_Sanu_Kishore_Train\\\\JG_20.wav',\n",
       " 'Hemanta_Jagjit_Sanu_Kishore_Train\\\\JG_21.wav',\n",
       " 'Hemanta_Jagjit_Sanu_Kishore_Train\\\\JG_22.wav',\n",
       " 'Hemanta_Jagjit_Sanu_Kishore_Train\\\\JG_23.wav',\n",
       " 'Hemanta_Jagjit_Sanu_Kishore_Train\\\\JG_24.wav',\n",
       " 'Hemanta_Jagjit_Sanu_Kishore_Train\\\\JG_25.wav',\n",
       " 'Hemanta_Jagjit_Sanu_Kishore_Train\\\\JG_26.wav',\n",
       " 'Hemanta_Jagjit_Sanu_Kishore_Train\\\\JG_27.wav',\n",
       " 'Hemanta_Jagjit_Sanu_Kishore_Train\\\\JG_28.wav',\n",
       " 'Hemanta_Jagjit_Sanu_Kishore_Train\\\\JG_29.wav',\n",
       " 'Hemanta_Jagjit_Sanu_Kishore_Train\\\\JG_30.wav',\n",
       " 'Hemanta_Jagjit_Sanu_Kishore_Train\\\\KK_1.wav',\n",
       " 'Hemanta_Jagjit_Sanu_Kishore_Train\\\\KK_16.wav',\n",
       " 'Hemanta_Jagjit_Sanu_Kishore_Train\\\\KK_17.wav',\n",
       " 'Hemanta_Jagjit_Sanu_Kishore_Train\\\\KK_18.wav',\n",
       " 'Hemanta_Jagjit_Sanu_Kishore_Train\\\\KK_19.wav',\n",
       " 'Hemanta_Jagjit_Sanu_Kishore_Train\\\\KK_2.wav',\n",
       " 'Hemanta_Jagjit_Sanu_Kishore_Train\\\\KK_20.wav',\n",
       " 'Hemanta_Jagjit_Sanu_Kishore_Train\\\\KK_21.wav',\n",
       " 'Hemanta_Jagjit_Sanu_Kishore_Train\\\\KK_22.wav',\n",
       " 'Hemanta_Jagjit_Sanu_Kishore_Train\\\\KK_23.wav',\n",
       " 'Hemanta_Jagjit_Sanu_Kishore_Train\\\\KK_24.wav',\n",
       " 'Hemanta_Jagjit_Sanu_Kishore_Train\\\\KK_25.wav',\n",
       " 'Hemanta_Jagjit_Sanu_Kishore_Train\\\\KK_26.wav',\n",
       " 'Hemanta_Jagjit_Sanu_Kishore_Train\\\\KK_27.wav',\n",
       " 'Hemanta_Jagjit_Sanu_Kishore_Train\\\\KK_28.wav',\n",
       " 'Hemanta_Jagjit_Sanu_Kishore_Train\\\\KK_29.wav',\n",
       " 'Hemanta_Jagjit_Sanu_Kishore_Train\\\\KK_3.wav',\n",
       " 'Hemanta_Jagjit_Sanu_Kishore_Train\\\\KK_30.wav',\n",
       " 'Hemanta_Jagjit_Sanu_Kishore_Train\\\\KK_4.wav',\n",
       " 'Hemanta_Jagjit_Sanu_Kishore_Train\\\\KK_5.wav',\n",
       " 'Hemanta_Jagjit_Sanu_Kishore_Train\\\\KS_01.wav',\n",
       " 'Hemanta_Jagjit_Sanu_Kishore_Train\\\\KS_02.wav',\n",
       " 'Hemanta_Jagjit_Sanu_Kishore_Train\\\\KS_03.wav',\n",
       " 'Hemanta_Jagjit_Sanu_Kishore_Train\\\\KS_04.wav',\n",
       " 'Hemanta_Jagjit_Sanu_Kishore_Train\\\\KS_05.wav',\n",
       " 'Hemanta_Jagjit_Sanu_Kishore_Train\\\\KS_16.wav',\n",
       " 'Hemanta_Jagjit_Sanu_Kishore_Train\\\\KS_17.wav',\n",
       " 'Hemanta_Jagjit_Sanu_Kishore_Train\\\\KS_18.wav',\n",
       " 'Hemanta_Jagjit_Sanu_Kishore_Train\\\\KS_19.wav',\n",
       " 'Hemanta_Jagjit_Sanu_Kishore_Train\\\\KS_20.wav',\n",
       " 'Hemanta_Jagjit_Sanu_Kishore_Train\\\\KS_21.wav',\n",
       " 'Hemanta_Jagjit_Sanu_Kishore_Train\\\\KS_22.wav',\n",
       " 'Hemanta_Jagjit_Sanu_Kishore_Train\\\\KS_23.wav',\n",
       " 'Hemanta_Jagjit_Sanu_Kishore_Train\\\\KS_24.wav',\n",
       " 'Hemanta_Jagjit_Sanu_Kishore_Train\\\\KS_25.wav',\n",
       " 'Hemanta_Jagjit_Sanu_Kishore_Train\\\\KS_26.wav',\n",
       " 'Hemanta_Jagjit_Sanu_Kishore_Train\\\\KS_27.wav',\n",
       " 'Hemanta_Jagjit_Sanu_Kishore_Train\\\\KS_28.wav',\n",
       " 'Hemanta_Jagjit_Sanu_Kishore_Train\\\\KS_29.wav',\n",
       " 'Hemanta_Jagjit_Sanu_Kishore_Train\\\\KS_30.wav']"
      ]
     },
     "execution_count": 8,
     "metadata": {},
     "output_type": "execute_result"
    }
   ],
   "source": [
    "files_tr"
   ]
  },
  {
   "cell_type": "code",
   "execution_count": 9,
   "metadata": {},
   "outputs": [
    {
     "data": {
      "text/plain": [
       "80"
      ]
     },
     "execution_count": 9,
     "metadata": {},
     "output_type": "execute_result"
    }
   ],
   "source": [
    "L = []\n",
    "for i in files_tr:\n",
    "    i = i.split('\\\\')[1].split('_')[0]\n",
    "    if i.upper() == 'HM':\n",
    "        L.append(0)\n",
    "    elif i.upper() == 'JG':\n",
    "        L.append(1)\n",
    "    elif i.upper() == 'KK':\n",
    "        L.append(2)\n",
    "    elif i.upper() == 'KS':\n",
    "        L.append(3)\n",
    "len(L)"
   ]
  },
  {
   "cell_type": "code",
   "execution_count": 10,
   "metadata": {
    "collapsed": true
   },
   "outputs": [],
   "source": [
    "arr_train = np.empty((21540))\n",
    " \n",
    "for file in files_tr:\n",
    "    y, sr = librosa.load(file)    \n",
    "    s =  librosa.feature.mfcc(y, sr=sr)    \n",
    "    s = s.flatten()\n",
    "    arr_train = np.vstack((arr_train, s))"
   ]
  },
  {
   "cell_type": "code",
   "execution_count": 11,
   "metadata": {},
   "outputs": [
    {
     "data": {
      "text/plain": [
       "(80, 21540)"
      ]
     },
     "execution_count": 11,
     "metadata": {},
     "output_type": "execute_result"
    }
   ],
   "source": [
    "X = arr_train[1:]\n",
    "X.shape"
   ]
  },
  {
   "cell_type": "code",
   "execution_count": 12,
   "metadata": {},
   "outputs": [
    {
     "data": {
      "text/plain": [
       "(80,)"
      ]
     },
     "execution_count": 12,
     "metadata": {},
     "output_type": "execute_result"
    }
   ],
   "source": [
    "Y = np.array(L)\n",
    "Y.shape"
   ]
  },
  {
   "cell_type": "code",
   "execution_count": 13,
   "metadata": {
    "collapsed": true
   },
   "outputs": [],
   "source": [
    "files_test = glob.glob(\"Hemanta_Jagjit_Sanu_Kishore_Test\\*.wav\")"
   ]
  },
  {
   "cell_type": "code",
   "execution_count": 14,
   "metadata": {
    "collapsed": true
   },
   "outputs": [],
   "source": [
    "B = []\n",
    "for i in files_test:\n",
    "    i = i.split('\\\\')[1].split('_')[0]\n",
    "    if i.upper() == 'HM':\n",
    "        B.append(0)\n",
    "    elif i.upper() == 'JG':\n",
    "        B.append(1)\n",
    "    elif i.upper() == 'KK':\n",
    "        B.append(2)\n",
    "    elif i.upper() == 'KS':\n",
    "        B.append(3)"
   ]
  },
  {
   "cell_type": "code",
   "execution_count": 15,
   "metadata": {},
   "outputs": [
    {
     "data": {
      "text/plain": [
       "(40,)"
      ]
     },
     "execution_count": 15,
     "metadata": {},
     "output_type": "execute_result"
    }
   ],
   "source": [
    "Y_test = np.array(B)\n",
    "Y_test.shape"
   ]
  },
  {
   "cell_type": "code",
   "execution_count": 16,
   "metadata": {
    "collapsed": true
   },
   "outputs": [],
   "source": [
    "arr_test = np.empty((21540))\n",
    "for file in files_test:\n",
    "    y, sr = librosa.load(file)    \n",
    "    s =  librosa.feature.mfcc(y, sr=sr)    \n",
    "    s = s.flatten()\n",
    "    arr_test = np.vstack((arr_test, s))"
   ]
  },
  {
   "cell_type": "code",
   "execution_count": 17,
   "metadata": {},
   "outputs": [
    {
     "data": {
      "text/plain": [
       "(40, 21540)"
      ]
     },
     "execution_count": 17,
     "metadata": {},
     "output_type": "execute_result"
    }
   ],
   "source": [
    "X_test = arr_test[1:]\n",
    "X_test.shape"
   ]
  },
  {
   "cell_type": "code",
   "execution_count": 56,
   "metadata": {},
   "outputs": [
    {
     "data": {
      "text/plain": [
       "array([[-305.75056696, -320.80851967, -335.82774872, ...,  -15.09739006,\n",
       "         -18.10605644,  -10.88618047],\n",
       "       [-323.96191678, -347.8397676 , -406.41230394, ...,   -9.24755127,\n",
       "         -10.26177757,   -4.66800841],\n",
       "       [-466.26634159, -398.09041311, -374.00862427, ...,  -11.94595115,\n",
       "          -6.77134671,   -7.7409955 ],\n",
       "       [-132.06915715, -159.7989109 , -187.91110299, ...,    2.20130531,\n",
       "           3.82740354,    7.61286937],\n",
       "       [-245.32725208, -257.68249881, -271.58093887, ...,   -9.68325906,\n",
       "          -9.75600938,  -14.71579672]])"
      ]
     },
     "execution_count": 56,
     "metadata": {},
     "output_type": "execute_result"
    }
   ],
   "source": [
    "X_test[:5]"
   ]
  },
  {
   "cell_type": "markdown",
   "metadata": {},
   "source": [
    "# Fitting Dataset to Model"
   ]
  },
  {
   "cell_type": "code",
   "execution_count": 57,
   "metadata": {
    "collapsed": true
   },
   "outputs": [],
   "source": [
    "logis=LogisticRegression()"
   ]
  },
  {
   "cell_type": "code",
   "execution_count": 58,
   "metadata": {},
   "outputs": [
    {
     "data": {
      "text/plain": [
       "LogisticRegression(C=1.0, class_weight=None, dual=False, fit_intercept=True,\n",
       "          intercept_scaling=1, max_iter=100, multi_class='ovr', n_jobs=1,\n",
       "          penalty='l2', random_state=None, solver='liblinear', tol=0.0001,\n",
       "          verbose=0, warm_start=False)"
      ]
     },
     "execution_count": 58,
     "metadata": {},
     "output_type": "execute_result"
    }
   ],
   "source": [
    "logis.fit(X,Y)"
   ]
  },
  {
   "cell_type": "code",
   "execution_count": 59,
   "metadata": {
    "collapsed": true
   },
   "outputs": [],
   "source": [
    "predictions=logis.predict(X_test)"
   ]
  },
  {
   "cell_type": "code",
   "execution_count": 60,
   "metadata": {},
   "outputs": [
    {
     "data": {
      "text/plain": [
       "0.72499999999999998"
      ]
     },
     "execution_count": 60,
     "metadata": {},
     "output_type": "execute_result"
    }
   ],
   "source": [
    "score=logis.score(X_test,Y_test)\n",
    "score"
   ]
  },
  {
   "cell_type": "code",
   "execution_count": 61,
   "metadata": {},
   "outputs": [
    {
     "data": {
      "text/plain": [
       "array([ 0,  0,  0,  1,  0,  0,  0,  0,  0,  0,  0,  0,  0,  0,  0,  0, -1,\n",
       "        0,  0,  0,  0, -2,  0,  0,  0, -1, -1,  0, -2,  0, -1, -1, -1,  0,\n",
       "        0,  0, -1, -1,  0,  0])"
      ]
     },
     "execution_count": 61,
     "metadata": {},
     "output_type": "execute_result"
    }
   ],
   "source": [
    "predictions-Y_test"
   ]
  },
  {
   "cell_type": "markdown",
   "metadata": {},
   "source": [
    "# Confusion Matrix of model on Raw Data"
   ]
  },
  {
   "cell_type": "code",
   "execution_count": 62,
   "metadata": {},
   "outputs": [
    {
     "data": {
      "text/plain": [
       "<matplotlib.text.Text at 0x19c9c5726a0>"
      ]
     },
     "execution_count": 62,
     "metadata": {},
     "output_type": "execute_result"
    },
    {
     "data": {
      "image/png": "[encoded data removed]",
      "text/plain": [
       "<matplotlib.figure.Figure at 0x19c9c6b96d8>"
      ]
     },
     "metadata": {},
     "output_type": "display_data"
    }
   ],
   "source": [
    "from sklearn import metrics\n",
    "cm = metrics.confusion_matrix(Y_test, predictions)\n",
    "plt.figure(figsize=(9,9))\n",
    "sns.heatmap(cm, annot = True, fmt= \".3f\", linewidths= .5, square = True, cmap='BuPu');\n",
    "plt.ylabel('Actual Label')\n",
    "plt.xlabel('Predicted label')\n",
    "all_sample_title = 'Accuracy Score: {0}'.format(score)\n",
    "plt.title(all_sample_title,size=15)"
   ]
  },
  {
   "cell_type": "markdown",
   "metadata": {},
   "source": [
    "# Preprocessing Data for higher accuracy"
   ]
  },
  {
   "cell_type": "code",
   "execution_count": 63,
   "metadata": {
    "collapsed": true
   },
   "outputs": [],
   "source": [
    "from sklearn import preprocessing"
   ]
  },
  {
   "cell_type": "code",
   "execution_count": 64,
   "metadata": {
    "collapsed": true
   },
   "outputs": [],
   "source": [
    "scaler=preprocessing.Binarizer().fit(X)\n",
    "X_binan=scaler.transform(X)\n",
    "scaler=preprocessing.Binarizer().fit(X_test)\n",
    "X_test_binan=scaler.transform(X_test)"
   ]
  },
  {
   "cell_type": "code",
   "execution_count": 65,
   "metadata": {},
   "outputs": [
    {
     "data": {
      "text/plain": [
       "LogisticRegression(C=1.0, class_weight=None, dual=False, fit_intercept=True,\n",
       "          intercept_scaling=1, max_iter=100, multi_class='ovr', n_jobs=1,\n",
       "          penalty='l2', random_state=None, solver='liblinear', tol=0.0001,\n",
       "          verbose=0, warm_start=False)"
      ]
     },
     "execution_count": 65,
     "metadata": {},
     "output_type": "execute_result"
    }
   ],
   "source": [
    "logis.fit(X_binan,Y)"
   ]
  },
  {
   "cell_type": "markdown",
   "metadata": {},
   "source": [
    "# Improved Score"
   ]
  },
  {
   "cell_type": "markdown",
   "metadata": {},
   "source": [
    "Improved score of 90% accuracy on Processed Data with Logistic Regression Model"
   ]
  },
  {
   "cell_type": "code",
   "execution_count": 66,
   "metadata": {},
   "outputs": [
    {
     "data": {
      "text/plain": [
       "0.90000000000000002"
      ]
     },
     "execution_count": 66,
     "metadata": {},
     "output_type": "execute_result"
    }
   ],
   "source": [
    "score=logis.score(X_test_binan,Y_test)\n",
    "score"
   ]
  },
  {
   "cell_type": "code",
   "execution_count": 67,
   "metadata": {
    "collapsed": true
   },
   "outputs": [],
   "source": [
    "predictions=logis.predict(X_test_binan)"
   ]
  },
  {
   "cell_type": "code",
   "execution_count": 68,
   "metadata": {},
   "outputs": [
    {
     "data": {
      "text/plain": [
       "array([ 0,  0,  0,  0,  0,  0,  0,  0,  0,  0,  0,  0,  0,  0,  0,  0,  0,\n",
       "        0,  0,  0,  0, -2,  0,  0,  0, -1,  0,  0,  0,  0,  0,  0, -2,  0,\n",
       "        0,  0,  0, -1,  0,  0])"
      ]
     },
     "execution_count": 68,
     "metadata": {},
     "output_type": "execute_result"
    }
   ],
   "source": [
    "predictions-Y_test"
   ]
  },
  {
   "cell_type": "markdown",
   "metadata": {},
   "source": [
    "#  Confusion Matrix of Model on Processed Data"
   ]
  },
  {
   "cell_type": "code",
   "execution_count": 69,
   "metadata": {},
   "outputs": [
    {
     "data": {
      "text/plain": [
       "<matplotlib.text.Text at 0x19c9d886ef0>"
      ]
     },
     "execution_count": 69,
     "metadata": {},
     "output_type": "execute_result"
    },
    {
     "data": {
      "image/png": "[encoded data removed]",
      "text/plain": [
       "<matplotlib.figure.Figure at 0x19c9d54feb8>"
      ]
     },
     "metadata": {},
     "output_type": "display_data"
    }
   ],
   "source": [
    "from sklearn import metrics\n",
    "cm = metrics.confusion_matrix(Y_test, predictions)\n",
    "plt.figure(figsize=(9,9))\n",
    "sns.heatmap(cm, annot = True, fmt= \".3f\", linewidths= .5, square = True, cmap='Blues_r');\n",
    "plt.ylabel('Actual Label')\n",
    "plt.xlabel('Predicted label')\n",
    "all_sample_title = 'Accuracy Score: {0}'.format(score)\n",
    "plt.title(all_sample_title,size=15)"
   ]
  },
  {
   "cell_type": "markdown",
   "metadata": {},
   "source": [
    "# Using SVM"
   ]
  },
  {
   "cell_type": "markdown",
   "metadata": {},
   "source": [
    "Using Support vector Classifier on unprocessed data"
   ]
  },
  {
   "cell_type": "code",
   "execution_count": 70,
   "metadata": {
    "collapsed": true
   },
   "outputs": [],
   "source": [
    "svc=SVC()"
   ]
  },
  {
   "cell_type": "code",
   "execution_count": 71,
   "metadata": {},
   "outputs": [
    {
     "data": {
      "text/plain": [
       "SVC(C=1.0, cache_size=200, class_weight=None, coef0=0.0,\n",
       "  decision_function_shape='ovr', degree=3, gamma='auto', kernel='rbf',\n",
       "  max_iter=-1, probability=False, random_state=None, shrinking=True,\n",
       "  tol=0.001, verbose=False)"
      ]
     },
     "execution_count": 71,
     "metadata": {},
     "output_type": "execute_result"
    }
   ],
   "source": [
    "svc.fit(X,Y)"
   ]
  },
  {
   "cell_type": "code",
   "execution_count": 72,
   "metadata": {},
   "outputs": [
    {
     "data": {
      "text/plain": [
       "0.77500000000000002"
      ]
     },
     "execution_count": 72,
     "metadata": {},
     "output_type": "execute_result"
    }
   ],
   "source": [
    "score=svc.score(X_test,Y_test)\n",
    "score"
   ]
  },
  {
   "cell_type": "code",
   "execution_count": 73,
   "metadata": {
    "collapsed": true
   },
   "outputs": [],
   "source": [
    "predictions=svc.predict(X_test)"
   ]
  },
  {
   "cell_type": "code",
   "execution_count": 74,
   "metadata": {},
   "outputs": [
    {
     "data": {
      "text/plain": [
       "<matplotlib.text.Text at 0x19c9fbf7c18>"
      ]
     },
     "execution_count": 74,
     "metadata": {},
     "output_type": "execute_result"
    },
    {
     "data": {
      "image/png": "[encoded data removed]",
      "text/plain": [
       "<matplotlib.figure.Figure at 0x19c9f592f28>"
      ]
     },
     "metadata": {},
     "output_type": "display_data"
    }
   ],
   "source": [
    "from sklearn import metrics\n",
    "cm = metrics.confusion_matrix(Y_test, predictions)\n",
    "plt.figure(figsize=(9,9))\n",
    "sns.heatmap(cm, annot = True, fmt= \".3f\", linewidths= .5, square = True, cmap='YlGnBu');\n",
    "plt.ylabel('Actual Label')\n",
    "plt.xlabel('Predicted label')\n",
    "all_sample_title = 'Accuracy Score: {0}'.format(score)\n",
    "plt.title(all_sample_title,size=15)"
   ]
  },
  {
   "cell_type": "markdown",
   "metadata": {},
   "source": []
  },
  {
   "cell_type": "code",
   "execution_count": 75,
   "metadata": {
    "collapsed": true
   },
   "outputs": [],
   "source": [
    "targetnames=['Hemanta','Jagjit','Kishore kumar','Kumar Shanu']"
   ]
  },
  {
   "cell_type": "code",
   "execution_count": 76,
   "metadata": {},
   "outputs": [
    {
     "name": "stdout",
     "output_type": "stream",
     "text": [
      "Hemanta\n",
      "Hemanta\n",
      "Hemanta\n",
      "Hemanta\n",
      "Hemanta\n",
      "Hemanta\n",
      "Hemanta\n",
      "Hemanta\n",
      "Hemanta\n",
      "Kumar Shanu\n",
      "Jagjit\n",
      "Hemanta\n",
      "Jagjit\n",
      "Jagjit\n",
      "Jagjit\n",
      "Jagjit\n",
      "Jagjit\n",
      "Jagjit\n",
      "Jagjit\n",
      "Jagjit\n",
      "Kishore kumar\n",
      "Kumar Shanu\n",
      "Kishore kumar\n",
      "Kishore kumar\n",
      "Hemanta\n",
      "Kishore kumar\n",
      "Kumar Shanu\n",
      "Kishore kumar\n",
      "Hemanta\n",
      "Kishore kumar\n",
      "Kumar Shanu\n",
      "Kumar Shanu\n",
      "Kumar Shanu\n",
      "Kumar Shanu\n",
      "Kumar Shanu\n",
      "Kumar Shanu\n",
      "Kumar Shanu\n",
      "Kishore kumar\n",
      "Kishore kumar\n",
      "Kishore kumar\n"
     ]
    }
   ],
   "source": [
    "for a in predictions:\n",
    "    print(targetnames[a])"
   ]
  },
  {
   "cell_type": "code",
   "execution_count": null,
   "metadata": {
    "collapsed": true
   },
   "outputs": [],
   "source": []
  }
 ],
 "metadata": {
  "kernelspec": {
   "display_name": "Python 3",
   "language": "python",
   "name": "python3"
  },
  "language_info": {
   "codemirror_mode": {
    "name": "ipython",
    "version": 3
   },
   "file_extension": ".py",
   "mimetype": "text/x-python",
   "name": "python",
   "nbconvert_exporter": "python",
   "pygments_lexer": "ipython3",
   "version": "3.7.3"
  }
 },
 "nbformat": 4,
 "nbformat_minor": 2
}
